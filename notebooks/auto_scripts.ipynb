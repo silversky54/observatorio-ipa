{
  "cells": [
    {
      "cell_type": "markdown",
      "id": "80f9412d",
      "metadata": {
        "id": "80f9412d"
      },
      "source": [
        "# Automation Scripts"
      ]
    },
    {
      "cell_type": "code",
      "execution_count": null,
      "id": "5b6f05f4",
      "metadata": {
        "id": "5b6f05f4"
      },
      "outputs": [],
      "source": [
        "import sqlite3\n",
        "from pathlib import Path\n",
        "from observatorio_ipa.core.workflows import automation\n",
        "from observatorio_ipa.utils import db"
      ]
    },
    {
      "cell_type": "code",
      "execution_count": null,
      "id": "ef32fe4f",
      "metadata": {
        "id": "ef32fe4f"
      },
      "outputs": [],
      "source": [
        "# general settings - Prefer reading settings from config.Settings object\n",
        "#! JS code shows: users/observatorionieves/Cuencas/Andes # Verified on 2025-06-30\n",
        "\n",
        "SENSOR = \"MCD\"\n",
        "settings = {\n",
        "    # User and credentials\n",
        "    \"user\": \"osn-imageautomation-dev@ee-observatorionieves.iam.gserviceaccount.com\",\n",
        "    \"service_credentials_file\": Path(\n",
        "        \"../secrets/ee-observatorionieves-288939dbc1cf.json\"\n",
        "    ),\n",
        "    # DB\n",
        "    \"db_path\": Path(\"../db/observatorio_ipa.db\"),\n",
        "    # ----- Image Export Input Assets ------\n",
        "    \"aoi_asset_path\": Path(\"projects/ee-observatorionieves/assets/Modules/Andes\"),\n",
        "    \"dem_asset_path\": Path(\n",
        "        \"projects/ee-observatorionieves/assets/Modules/DEM_SRTM_reproj_MODIS_463_Andes\"\n",
        "    ),\n",
        "    # Monthly Image Collections (Used for both Input and Output)\n",
        "    \"monthly_collection_path\": Path(\n",
        "        \"projects/ee-observatorionieves/assets/Test/MODIS/Andes_MCDS4S5_Yearly_Monthly\"\n",
        "    ),\n",
        "    \"monthly_image_prefix\": \"Andes_MCDS4S5_Yearly_Monthly\",\n",
        "    \"months_list\": [\"2024-07\", \"2024-08\", \"2024-09\", \"2024-10\", \"2024-11\", \"2024-12\"],\n",
        "\n",
        "    # Yearly Image Collections (Used for both Input and Output)\n",
        "    \"yearly_collection_path\": Path(\n",
        "        \"projects/ee-observatorionieves/assets/Test/MODIS/Andes_MCDS4S5_Yearly\"\n",
        "    ),\n",
        "    \"yearly_image_prefix\": \"Andes_MCDS4S5_Yearly\",\n",
        "\n",
        "    # ----- Stats Export Input Assets ------\n",
        "    \"basins_asset_path\": Path(\n",
        "        \"users/observatorionieves/DGA/Cuencas_BNA_Oficial\"\n",
        "    ),  # BASINS_BNA_ASSET_PATH\n",
        "    \"macrozones_asset_path\": Path(\n",
        "        \"users/observatorionieves/DGA/Macrozonas_BNA_Oficial\"\n",
        "    ),  # MACROZONAS_BNA_ASSET_PATH\n",
        "    \"basins_cd_property\": \"COD_CUEN\",\n",
        "    \"stats_dem_asset_path\": Path(\n",
        "        \"users/observatorionieves/DEM/DEM_SRTM_reproj_Landsat_100_Andes\"\n",
        "    ),  # DEM_ASSET_PATH\n",
        "    \"salar_mask_asset_path\": Path(\n",
        "        \"projects/ee-observatorionieves/assets/Vectores/Salar_mask\"\n",
        "    ),\n",
        "    \"snow_persistence_asset_path\": Path(\n",
        "        \"users/observatorionieves/MODIS/MCD10A1_Andes_T48_Summary/MCD10A1_Andes_T48_Summary_SP\"\n",
        "    ),\n",
        "    \"snow_persistence_trend_asset_path\": Path(\n",
        "        \"users/observatorionieves/MODIS/MCD10A1_Andes_T48_Summary/MCD10A1_Andes_T48_Summary_ST\"\n",
        "    ),\n",
        "    # ----- Stats Common Output Config -----\n",
        "    \"stats_export_target\": \"storage\",\n",
        "    \"stats_storage_bucket\": \"chompitest-odes\",\n",
        "    \"stats_base_export_path\": Path(\"OSN/stats/\"),\n",
        "    \"basin_codes\": [\"023\", \"024\", \"030\"],\n",
        "    \"exclude_basin_codes\": None,\n",
        "    \"max_exports\": None,\n",
        "    \"common_tbl_pre_prefix\": \"MCD\",\n",
        "    # ----- Elevation Output -----\n",
        "    \"elevation_tbl_export_path\": Path(\"elev_ee\"),\n",
        "    \"elev_basin_tbl_prefix\": f\"elev_BNA_\",\n",
        "    \"sca_elev_basin_tbl_prefix\": f\"SCA_elev_BNA_\",\n",
        "    # ----- Month (across-years) Statistics Output -----\n",
        "    \"month_tbl_export_path\": Path(\"month_ee\"),\n",
        "    \"sca_m_basin_tbl_prefix\": f\"SCA_m_BNA_\",\n",
        "    \"sca_m_elev_basin_tbl_prefix\": f\"SCA_m_elev_BNA_\",\n",
        "    \"sca_m_trend_basin_tbl_prefix\": f\"SCA_m_trend_BNA_\",\n",
        "    # ----- Monthly (year/month) Statistics Output -----\n",
        "    \"year_month_tbl_export_path\": Path(\"yearMonth_ee\"),\n",
        "    \"sca_y_m_basin_tbl_prefix\": f\"SCA_y_m_BNA_\",\n",
        "    \"sca_ym_basin_tbl_prefix\": f\"SCA_ym_BNA_\",\n",
        "    \"sca_ym_elev_basin_tbl_prefix\": f\"SCA_ym_elev_BNA_\",\n",
        "    \"snowline_ym_basin_tbl_prefix\": f\"snowline_ym_BNA_\",\n",
        "    # ----- Yearly Statistics Output -----\n",
        "    \"year_tbl_export_path\": Path(\"year_ee\"),\n",
        "    \"sca_y_basin_tbl_prefix\": f\"SCA_y_BNA_\",\n",
        "    \"sca_y_elev_basin_tbl_prefix\": f\"SCA_y_elev_BNA_\",\n",
        "    \"sca_y_t_area_basin_tbl_prefix\": f\"SCA_y_t_area_BNA_\",\n",
        "    \"sca_y_t_elev_basin_tbl_prefix\": f\"SCA_y_t_elev_BNA_\",\n",
        "    \"snowline_y_basin_tbl_prefix\": f\"snowline_y_BNA_\",\n",
        "    # ----- stats manifest -----\n",
        "    \"manifest_source\": \"file\",  # file or storage\n",
        "    \"monthly_manifest_path\": Path(\"../manifests/\"),\n",
        "}"
      ]
    },
    {
      "cell_type": "markdown",
      "id": "8b4355b0",
      "metadata": {
        "id": "8b4355b0"
      },
      "source": [
        "## Connect to EE"
      ]
    },
    {
      "cell_type": "code",
      "execution_count": null,
      "id": "b69c5f99",
      "metadata": {
        "id": "b69c5f99"
      },
      "outputs": [],
      "source": [
        "# Connect to Google Earth Engine\n",
        "from observatorio_ipa.services import connections\n",
        "\n",
        "runtime_service_account = connections.GoogleServiceAccount(\n",
        "    settings[\"service_credentials_file\"].as_posix(),\n",
        ")\n",
        "connections.connect_to_gee(runtime_service_account)"
      ]
    },
    {
      "cell_type": "markdown",
      "id": "82b46e61",
      "metadata": {
        "id": "82b46e61"
      },
      "source": [
        "### Daily Job Workflow"
      ]
    },
    {
      "cell_type": "code",
      "execution_count": null,
      "id": "f5a9c201",
      "metadata": {
        "id": "f5a9c201"
      },
      "outputs": [],
      "source": [
        "# Uses the following settings:\n",
        "\n",
        "# - settings[\"db_path\"]\n",
        "# - settings[\"monthly_collection_path\"]\n",
        "# - settings[\"monthly_image_prefix\"]\n",
        "# - aoi_path = settings[\"aoi_asset_path\"]\n",
        "# - dem_path = settings[\"dem_asset_path\"]\n",
        "# - months_list = settings[\"months_list\"]\n",
        "\n",
        "\n",
        "auto_daily_job = automation.auto_daily_job(settings=settings)"
      ]
    },
    {
      "cell_type": "code",
      "execution_count": null,
      "id": "87053634",
      "metadata": {
        "id": "87053634"
      },
      "outputs": [],
      "source": [
        "# Identify running jobs\n",
        "\n",
        "# Limiting to 1 job for testing this is no\n",
        "db_path = settings[\"db_path\"]\n",
        "\n",
        "with db.db(db_path) as conn:\n",
        "    running_jobs = conn.execute(\n",
        "        \"\"\"SELECT created_at, id FROM jobs WHERE job_status = 'RUNNING' ORDER BY created_at DESC\"\"\"\n",
        "    ).fetchall()\n",
        "\n",
        "    for job in running_jobs:\n",
        "        print(f\"Job: {job['id']} - started at {job['created_at']}\")"
      ]
    },
    {
      "cell_type": "code",
      "execution_count": null,
      "id": "5b36f373",
      "metadata": {
        "id": "5b36f373"
      },
      "outputs": [],
      "source": [
        "def _print_job_details(conn, job_id):\n",
        "    job = conn.execute(\"SELECT * FROM jobs WHERE id = ?\", (job_id,)).fetchone()\n",
        "    print(dict(job))\n",
        "\n",
        "    tasks_by_type_status = conn.execute(\n",
        "        \"SELECT type, state, COUNT(*) AS count FROM exports WHERE job_id = ? GROUP BY type, state\",\n",
        "        (job_id,),\n",
        "    ).fetchall()\n",
        "    for _task in tasks_by_type_status:\n",
        "        print(dict(_task))"
      ]
    },
    {
      "cell_type": "code",
      "execution_count": null,
      "id": "56834dfb",
      "metadata": {
        "id": "56834dfb",
        "outputId": "bec8e69a-b2bc-4945-f4c7-bbd97fd8fa1c"
      },
      "outputs": [
        {
          "name": "stdout",
          "output_type": "stream",
          "text": [
            "{'id': 'd258473f-b7ab-4a50-bc98-dbd91e6853e8', 'job_status': 'RUNNING', 'image_export_status': 'PENDING', 'stats_export_status': 'PENDING', 'report_status': 'PENDING', 'email_to': None, 'error': None, 'created_at': '2025-08-21T19:22:39.979791+00:00', 'updated_at': '2025-08-21T19:22:39.979791+00:00'}\n",
            "{'type': 'image', 'state': 'COMPLETED', 'count': 7}\n",
            "{'type': 'image', 'state': 'FAILED', 'count': 7}\n"
          ]
        }
      ],
      "source": [
        "with db.db(db_path) as conn:\n",
        "    _print_job_details(conn, \"d258473f-b7ab-4a50-bc98-dbd91e6853e8\")"
      ]
    },
    {
      "cell_type": "markdown",
      "id": "d09f13b0",
      "metadata": {
        "id": "d09f13b0"
      },
      "source": [
        "### Job Update Orchestration Workflow"
      ]
    },
    {
      "cell_type": "code",
      "execution_count": null,
      "id": "2fa0c860",
      "metadata": {
        "id": "2fa0c860",
        "outputId": "a2f71d7e-6645-4ed5-90e9-0908c254fe26"
      },
      "outputs": [
        {
          "name": "stderr",
          "output_type": "stream",
          "text": [
            "Error generating report for job d258473f-b7ab-4a50-bc98-dbd91e6853e8: dictionary update sequence element #0 has length 18; 2 is required\n",
            "Error generating report for job 9ac1ca09-894e-4fa2-adaf-192163caf189: dictionary update sequence element #0 has length 18; 2 is required\n"
          ]
        },
        {
          "name": "stdout",
          "output_type": "stream",
          "text": [
            "Updating status for job: d258473f-b7ab-4a50-bc98-dbd91e6853e8\n",
            "Current job status: {'id': 'd258473f-b7ab-4a50-bc98-dbd91e6853e8', 'job_status': 'RUNNING', 'image_export_status': 'PENDING', 'stats_export_status': 'PENDING', 'report_status': 'PENDING', 'email_to': None, 'error': None, 'created_at': '2025-08-21T19:22:39.979791+00:00', 'updated_at': '2025-08-21T19:22:39.979791+00:00'}\n",
            "Updated job status: {'id': 'd258473f-b7ab-4a50-bc98-dbd91e6853e8', 'job_status': 'FAILED', 'image_export_status': 'FAILED', 'stats_export_status': 'PENDING', 'report_status': 'PENDING', 'email_to': None, 'error': ' | Cannot verify all exports were created/completed successfully', 'created_at': '2025-08-21T19:22:39.979791+00:00', 'updated_at': '2025-08-26T17:26:15.418968+00:00'}\n",
            "{'id': 'd258473f-b7ab-4a50-bc98-dbd91e6853e8', 'job_status': 'FAILED', 'image_export_status': 'FAILED', 'stats_export_status': 'PENDING', 'report_status': 'PENDING', 'email_to': None, 'error': ' | Cannot verify all exports were created/completed successfully', 'created_at': '2025-08-21T19:22:39.979791+00:00', 'updated_at': '2025-08-26T17:26:15.418968+00:00'}\n",
            "Generating report for job [d258473f-b7ab-4a50-bc98-dbd91e6853e8]...\n",
            "Error generating report for job d258473f-b7ab-4a50-bc98-dbd91e6853e8: dictionary update sequence element #0 has length 18; 2 is required\n",
            "Updating status for job: 9ac1ca09-894e-4fa2-adaf-192163caf189\n",
            "Current job status: {'id': '9ac1ca09-894e-4fa2-adaf-192163caf189', 'job_status': 'RUNNING', 'image_export_status': 'RUNNING', 'stats_export_status': 'PENDING', 'report_status': 'PENDING', 'email_to': None, 'error': None, 'created_at': '2025-08-26T15:07:39.634699+00:00', 'updated_at': '2025-08-26T15:07:54.804330+00:00'}\n",
            "Updated job status: {'id': '9ac1ca09-894e-4fa2-adaf-192163caf189', 'job_status': 'RUNNING', 'image_export_status': 'COMPLETED', 'stats_export_status': 'PENDING', 'report_status': 'PENDING', 'email_to': None, 'error': None, 'created_at': '2025-08-26T15:07:39.634699+00:00', 'updated_at': '2025-08-26T17:26:15.419950+00:00'}\n",
            "Starting stats exports for job: 9ac1ca09-894e-4fa2-adaf-192163caf189\n",
            "{'id': '9ac1ca09-894e-4fa2-adaf-192163caf189', 'job_status': 'COMPLETED', 'image_export_status': 'COMPLETED', 'stats_export_status': 'NOT_REQUIRED', 'report_status': 'PENDING', 'email_to': None, 'error': None, 'created_at': '2025-08-26T15:07:39.634699+00:00', 'updated_at': '2025-08-26T17:26:15.420939+00:00'}\n",
            "Generating report for job [9ac1ca09-894e-4fa2-adaf-192163caf189]...\n",
            "Error generating report for job 9ac1ca09-894e-4fa2-adaf-192163caf189: dictionary update sequence element #0 has length 18; 2 is required\n"
          ]
        }
      ],
      "source": [
        "automation.auto_orchestrate_job_updates(settings=settings)"
      ]
    },
    {
      "cell_type": "code",
      "execution_count": null,
      "id": "be4d3130",
      "metadata": {
        "id": "be4d3130",
        "outputId": "986ed4a8-1c1e-4025-ece4-cf8336bf43dd"
      },
      "outputs": [
        {
          "name": "stdout",
          "output_type": "stream",
          "text": [
            "{'id': 'd258473f-b7ab-4a50-bc98-dbd91e6853e8', 'job_status': 'RUNNING', 'image_export_status': 'PENDING', 'stats_export_status': 'PENDING', 'report_status': 'PENDING', 'email_to': None, 'error': None, 'created_at': '2025-08-21T19:22:39.979791+00:00', 'updated_at': '2025-08-21T19:22:39.979791+00:00'}\n"
          ]
        }
      ],
      "source": [
        "with db.db(db_path) as conn:\n",
        "    automation.auto_job_report(conn=conn, job_id=\"d258473f-b7ab-4a50-bc98-dbd91e6853e8\")"
      ]
    },
    {
      "cell_type": "code",
      "execution_count": null,
      "id": "bda172e7",
      "metadata": {
        "id": "bda172e7",
        "outputId": "eeb6443c-4314-4acc-ce23-dbb7b020ffee"
      },
      "outputs": [
        {
          "name": "stdout",
          "output_type": "stream",
          "text": [
            "{'id': 'eb306128-0eae-4ed8-9ea4-5c21baf1a9ec', 'job_status': 'COMPLETED', 'image_export_status': 'COMPLETED', 'stats_export_status': 'COMPLETED', 'report_status': 'COMPLETED', 'email_to': None, 'error': None, 'created_at': '2025-08-20T23:49:04.612341+00:00', 'updated_at': '2025-08-21T01:11:09.657679+00:00'}\n",
            "{'id': 'd258473f-b7ab-4a50-bc98-dbd91e6853e8', 'job_status': 'FAILED', 'image_export_status': 'FAILED', 'stats_export_status': 'PENDING', 'report_status': 'PENDING', 'email_to': None, 'error': '| Cannot verify all exports were created/completed successfully | Error generating report for job d258473f-b7ab-4a50-bc98-dbd91e6853e8: dictionary update sequence element #0 has length 18; 2 is required', 'created_at': '2025-08-21T19:22:39.979791+00:00', 'updated_at': '2025-08-26T17:26:15.419950+00:00'}\n",
            "{'id': '9ac1ca09-894e-4fa2-adaf-192163caf189', 'job_status': 'COMPLETED', 'image_export_status': 'COMPLETED', 'stats_export_status': 'NOT_REQUIRED', 'report_status': 'FAILED', 'email_to': None, 'error': ' | Error generating report for job 9ac1ca09-894e-4fa2-adaf-192163caf189: dictionary update sequence element #0 has length 18; 2 is required', 'created_at': '2025-08-26T15:07:39.634699+00:00', 'updated_at': '2025-08-26T17:26:15.422033+00:00'}\n"
          ]
        }
      ],
      "source": [
        "with db.db(db_path) as conn:\n",
        "    jobs = conn.execute(\"\"\"SELECT * FROM jobs \"\"\").fetchall()\n",
        "    for job in jobs:\n",
        "       print(dict(job))"
      ]
    },
    {
      "cell_type": "code",
      "execution_count": null,
      "id": "49135e7b",
      "metadata": {
        "id": "49135e7b"
      },
      "outputs": [],
      "source": [
        "with db.db(db_path) as conn:\n",
        "    conn.execute(\"\"\"UPDATE jobs set report_status = \"PENDING\" WHERE id= ? \"\"\", ('d258473f-b7ab-4a50-bc98-dbd91e6853e8',))"
      ]
    },
    {
      "cell_type": "code",
      "execution_count": null,
      "id": "6c3f6f68",
      "metadata": {
        "id": "6c3f6f68",
        "outputId": "c0ca961f-7892-452d-afe3-946fd60451cd"
      },
      "outputs": [
        {
          "name": "stdout",
          "output_type": "stream",
          "text": [
            "{'id': 'd258473f-b7ab-4a50-bc98-dbd91e6853e8', 'job_status': 'FAILED', 'image_export_status': 'FAILED', 'stats_export_status': 'PENDING', 'report_status': 'PENDING', 'email_to': None, 'error': '| Cannot verify all exports were created/completed successfully | Error generating report for job d258473f-b7ab-4a50-bc98-dbd91e6853e8: dictionary update sequence element #0 has length 18; 2 is required', 'created_at': '2025-08-21T19:22:39.979791+00:00', 'updated_at': '2025-08-26T17:26:15.419950+00:00'}\n"
          ]
        }
      ],
      "source": [
        "job_id='d258473f-b7ab-4a50-bc98-dbd91e6853e8'\n",
        "with db.db(db_path) as conn:\n",
        "    job = conn.execute(\"SELECT * FROM jobs WHERE id=? LIMIT 1\", (job_id,)).fetchone()\n",
        "    print(dict(job))\n",
        "\n",
        "    # Report only if Job has finished and reporting is pending\n",
        "    if not (\n",
        "        job[\"job_status\"] in (\"COMPLETED\", \"FAILED\")\n",
        "        and job[\"report_status\"] in (\"PENDING\")\n",
        "    ):\n",
        "        print('return')"
      ]
    },
    {
      "cell_type": "code",
      "execution_count": null,
      "id": "17055129",
      "metadata": {
        "id": "17055129"
      },
      "outputs": [],
      "source": [
        "from pprint import pprint"
      ]
    },
    {
      "cell_type": "code",
      "execution_count": null,
      "id": "e5a8d894",
      "metadata": {
        "id": "e5a8d894",
        "outputId": "591f0b29-faa0-41a3-8b23-a46d3bf4dd27"
      },
      "outputs": [
        {
          "name": "stdout",
          "output_type": "stream",
          "text": [
            "{'job': {'created_at': '2025-08-21T19:22:39.979791+00:00',\n",
            "         'email_to': None,\n",
            "         'error': '| Cannot verify all exports were created/completed '\n",
            "                  'successfully | Error generating report for job '\n",
            "                  'd258473f-b7ab-4a50-bc98-dbd91e6853e8: dictionary update '\n",
            "                  'sequence element #0 has length 18; 2 is required',\n",
            "         'id': 'd258473f-b7ab-4a50-bc98-dbd91e6853e8',\n",
            "         'image_export_status': 'FAILED',\n",
            "         'job_status': 'FAILED',\n",
            "         'report_status': 'PENDING',\n",
            "         'stats_export_status': 'PENDING',\n",
            "         'updated_at': '2025-08-26T17:26:15.419950+00:00'},\n",
            " 'tasks': [{'attempts': 0,\n",
            "            'created_at': '2025-08-21T19:23:57.341910+00:00',\n",
            "            'deadline_at': None,\n",
            "            'error': None,\n",
            "            'id': '3ae57c56-3f84-49b4-b29d-1ac4694a3ff3',\n",
            "            'job_id': 'd258473f-b7ab-4a50-bc98-dbd91e6853e8',\n",
            "            'last_error': None,\n",
            "            'lease_until': '2025-08-21T20:04:07.323248+00:00',\n",
            "            'name': 'Andes_MCDS4S5_Yearly_Monthly_2025_01',\n",
            "            'next_check_at': '2025-08-21T19:23:57.341910+00:00',\n",
            "            'path': 'projects/ee-observatorionieves/assets/Test/MODIS/Andes_MCDS4S5_Yearly_Monthly',\n",
            "            'poll_interval_sec': 15,\n",
            "            'state': 'COMPLETED',\n",
            "            'target': 'gee',\n",
            "            'task_id': '5554LYBPXYXGOL5QEKIBSBB4',\n",
            "            'task_status': 'COMPLETED',\n",
            "            'type': 'image',\n",
            "            'updated_at': '2025-08-21T20:03:07.323248+00:00'},\n",
            "           {'attempts': 0,\n",
            "            'created_at': '2025-08-21T19:23:57.341910+00:00',\n",
            "            'deadline_at': None,\n",
            "            'error': None,\n",
            "            'id': 'cbec8e30-ba22-47f9-a08a-9daca5f82f37',\n",
            "            'job_id': 'd258473f-b7ab-4a50-bc98-dbd91e6853e8',\n",
            "            'last_error': None,\n",
            "            'lease_until': '2025-08-21T20:04:07.323248+00:00',\n",
            "            'name': 'Andes_MCDS4S5_Yearly_Monthly_2025_02',\n",
            "            'next_check_at': '2025-08-21T19:23:57.341910+00:00',\n",
            "            'path': 'projects/ee-observatorionieves/assets/Test/MODIS/Andes_MCDS4S5_Yearly_Monthly',\n",
            "            'poll_interval_sec': 15,\n",
            "            'state': 'COMPLETED',\n",
            "            'target': 'gee',\n",
            "            'task_id': 'RREKRYTOQAF5LOQHCJOD7M6Z',\n",
            "            'task_status': 'COMPLETED',\n",
            "            'type': 'image',\n",
            "            'updated_at': '2025-08-21T20:03:07.721159+00:00'},\n",
            "           {'attempts': 0,\n",
            "            'created_at': '2025-08-21T19:23:57.341910+00:00',\n",
            "            'deadline_at': None,\n",
            "            'error': None,\n",
            "            'id': '8b92eef1-e335-4ec3-aac4-929a0d8f289c',\n",
            "            'job_id': 'd258473f-b7ab-4a50-bc98-dbd91e6853e8',\n",
            "            'last_error': None,\n",
            "            'lease_until': '2025-08-21T20:04:07.323248+00:00',\n",
            "            'name': 'Andes_MCDS4S5_Yearly_Monthly_2025_03',\n",
            "            'next_check_at': '2025-08-21T19:23:57.341910+00:00',\n",
            "            'path': 'projects/ee-observatorionieves/assets/Test/MODIS/Andes_MCDS4S5_Yearly_Monthly',\n",
            "            'poll_interval_sec': 15,\n",
            "            'state': 'COMPLETED',\n",
            "            'target': 'gee',\n",
            "            'task_id': 'F7OHID7YCYK33TBDB7LQUO7D',\n",
            "            'task_status': 'COMPLETED',\n",
            "            'type': 'image',\n",
            "            'updated_at': '2025-08-21T20:03:07.978352+00:00'},\n",
            "           {'attempts': 0,\n",
            "            'created_at': '2025-08-21T19:23:57.341910+00:00',\n",
            "            'deadline_at': None,\n",
            "            'error': None,\n",
            "            'id': 'c5b706af-5342-4ab1-bfa7-8229cedf312e',\n",
            "            'job_id': 'd258473f-b7ab-4a50-bc98-dbd91e6853e8',\n",
            "            'last_error': None,\n",
            "            'lease_until': '2025-08-21T20:51:47.762760+00:00',\n",
            "            'name': 'Andes_MCDS4S5_Yearly_Monthly_2025_04',\n",
            "            'next_check_at': '2025-08-21T20:18:53.842904+00:00',\n",
            "            'path': 'projects/ee-observatorionieves/assets/Test/MODIS/Andes_MCDS4S5_Yearly_Monthly',\n",
            "            'poll_interval_sec': 195,\n",
            "            'state': 'COMPLETED',\n",
            "            'target': 'gee',\n",
            "            'task_id': 'PBPIQFGPYCNYWPXNZF2BEMYZ',\n",
            "            'task_status': 'COMPLETED',\n",
            "            'type': 'image',\n",
            "            'updated_at': '2025-08-21T20:50:47.764790+00:00'},\n",
            "           {'attempts': 0,\n",
            "            'created_at': '2025-08-21T19:23:57.341910+00:00',\n",
            "            'deadline_at': None,\n",
            "            'error': None,\n",
            "            'id': '78321c83-a7eb-48ce-911f-2df13752a8ad',\n",
            "            'job_id': 'd258473f-b7ab-4a50-bc98-dbd91e6853e8',\n",
            "            'last_error': None,\n",
            "            'lease_until': '2025-08-21T20:51:47.762760+00:00',\n",
            "            'name': 'Andes_MCDS4S5_Yearly_Monthly_2025_05',\n",
            "            'next_check_at': '2025-08-21T20:19:16.156054+00:00',\n",
            "            'path': 'projects/ee-observatorionieves/assets/Test/MODIS/Andes_MCDS4S5_Yearly_Monthly',\n",
            "            'poll_interval_sec': 217,\n",
            "            'state': 'COMPLETED',\n",
            "            'target': 'gee',\n",
            "            'task_id': '5JBRZYOXWBBNOVZQ3FOKYYG3',\n",
            "            'task_status': 'COMPLETED',\n",
            "            'type': 'image',\n",
            "            'updated_at': '2025-08-21T20:50:48.189110+00:00'},\n",
            "           {'attempts': 0,\n",
            "            'created_at': '2025-08-21T19:23:57.341910+00:00',\n",
            "            'deadline_at': None,\n",
            "            'error': None,\n",
            "            'id': 'e7f05628-a495-47df-84f9-2cf5c50702b9',\n",
            "            'job_id': 'd258473f-b7ab-4a50-bc98-dbd91e6853e8',\n",
            "            'last_error': None,\n",
            "            'lease_until': '2025-08-21T20:16:38.842904+00:00',\n",
            "            'name': 'Andes_MCDS4S5_Yearly_Monthly_2025_06',\n",
            "            'next_check_at': '2025-08-21T20:11:59.764651+00:00',\n",
            "            'path': 'projects/ee-observatorionieves/assets/Test/MODIS/Andes_MCDS4S5_Yearly_Monthly',\n",
            "            'poll_interval_sec': 115,\n",
            "            'state': 'COMPLETED',\n",
            "            'target': 'gee',\n",
            "            'task_id': 'DSMHSGSS6IKCYRIEQBUTEOKX',\n",
            "            'task_status': 'COMPLETED',\n",
            "            'type': 'image',\n",
            "            'updated_at': '2025-08-21T20:15:39.425189+00:00'},\n",
            "           {'attempts': 1,\n",
            "            'created_at': '2025-08-21T19:23:57.341910+00:00',\n",
            "            'deadline_at': None,\n",
            "            'error': None,\n",
            "            'id': '71975141-5b68-4dec-9296-a264cd6bd4b3',\n",
            "            'job_id': 'd258473f-b7ab-4a50-bc98-dbd91e6853e8',\n",
            "            'last_error': None,\n",
            "            'lease_until': '2025-08-26T15:08:54.809497+00:00',\n",
            "            'name': 'Andes_MCDS4S5_Yearly_Monthly_2025_07',\n",
            "            'next_check_at': '2025-08-22T01:25:38.310971+00:00',\n",
            "            'path': 'projects/ee-observatorionieves/assets/Test/MODIS/Andes_MCDS4S5_Yearly_Monthly',\n",
            "            'poll_interval_sec': 326,\n",
            "            'state': 'COMPLETED',\n",
            "            'target': 'gee',\n",
            "            'task_id': 'W5VNYYNMKT7RGHI5ZGLMKJ75',\n",
            "            'task_status': 'COMPLETED',\n",
            "            'type': 'image',\n",
            "            'updated_at': '2025-08-26T15:07:54.809986+00:00'},\n",
            "           {'attempts': 0,\n",
            "            'created_at': '2025-08-21T19:23:57.341910+00:00',\n",
            "            'deadline_at': None,\n",
            "            'error': None,\n",
            "            'id': 'c235f5bb-043b-4cea-a65e-11f338f49e48',\n",
            "            'job_id': 'd258473f-b7ab-4a50-bc98-dbd91e6853e8',\n",
            "            'last_error': None,\n",
            "            'lease_until': None,\n",
            "            'name': 'Andes_MCDS4S5_Yearly_Monthly_2025_01',\n",
            "            'next_check_at': '2025-08-21T19:23:57.341910+00:00',\n",
            "            'path': 'projects/ee-observatorionieves/assets/Test/MODIS/Andes_MCDS4S5_Yearly_Monthly',\n",
            "            'poll_interval_sec': 15,\n",
            "            'state': 'FAILED',\n",
            "            'target': 'gee',\n",
            "            'task_id': '6F2LPF5CUWMYN2SQYK5FH3LZ',\n",
            "            'task_status': 'FAILED',\n",
            "            'type': 'image',\n",
            "            'updated_at': '2025-08-21T19:23:57.341910+00:00'},\n",
            "           {'attempts': 0,\n",
            "            'created_at': '2025-08-21T19:23:57.341910+00:00',\n",
            "            'deadline_at': None,\n",
            "            'error': None,\n",
            "            'id': 'a9d8d064-6a15-4463-9179-a39ab9427ac1',\n",
            "            'job_id': 'd258473f-b7ab-4a50-bc98-dbd91e6853e8',\n",
            "            'last_error': None,\n",
            "            'lease_until': None,\n",
            "            'name': 'Andes_MCDS4S5_Yearly_Monthly_2025_02',\n",
            "            'next_check_at': '2025-08-21T19:23:57.341910+00:00',\n",
            "            'path': 'projects/ee-observatorionieves/assets/Test/MODIS/Andes_MCDS4S5_Yearly_Monthly',\n",
            "            'poll_interval_sec': 15,\n",
            "            'state': 'FAILED',\n",
            "            'target': 'gee',\n",
            "            'task_id': 'AIVPJS75V5IB6EC7YQHZMYCX',\n",
            "            'task_status': 'FAILED',\n",
            "            'type': 'image',\n",
            "            'updated_at': '2025-08-21T19:23:57.341910+00:00'},\n",
            "           {'attempts': 0,\n",
            "            'created_at': '2025-08-21T19:23:57.341910+00:00',\n",
            "            'deadline_at': None,\n",
            "            'error': None,\n",
            "            'id': 'b26d69f2-99b6-451f-9fa8-b0bed5e98a9d',\n",
            "            'job_id': 'd258473f-b7ab-4a50-bc98-dbd91e6853e8',\n",
            "            'last_error': None,\n",
            "            'lease_until': None,\n",
            "            'name': 'Andes_MCDS4S5_Yearly_Monthly_2025_03',\n",
            "            'next_check_at': '2025-08-21T19:23:57.341910+00:00',\n",
            "            'path': 'projects/ee-observatorionieves/assets/Test/MODIS/Andes_MCDS4S5_Yearly_Monthly',\n",
            "            'poll_interval_sec': 15,\n",
            "            'state': 'FAILED',\n",
            "            'target': 'gee',\n",
            "            'task_id': 'UVYUQJFJR5EX7QHPUUOJ3OA4',\n",
            "            'task_status': 'FAILED',\n",
            "            'type': 'image',\n",
            "            'updated_at': '2025-08-21T19:23:57.341910+00:00'},\n",
            "           {'attempts': 0,\n",
            "            'created_at': '2025-08-21T19:23:57.341910+00:00',\n",
            "            'deadline_at': None,\n",
            "            'error': None,\n",
            "            'id': '057e2f17-7c73-486d-a778-48c84f918930',\n",
            "            'job_id': 'd258473f-b7ab-4a50-bc98-dbd91e6853e8',\n",
            "            'last_error': None,\n",
            "            'lease_until': None,\n",
            "            'name': 'Andes_MCDS4S5_Yearly_Monthly_2025_04',\n",
            "            'next_check_at': '2025-08-21T19:23:57.341910+00:00',\n",
            "            'path': 'projects/ee-observatorionieves/assets/Test/MODIS/Andes_MCDS4S5_Yearly_Monthly',\n",
            "            'poll_interval_sec': 15,\n",
            "            'state': 'FAILED',\n",
            "            'target': 'gee',\n",
            "            'task_id': 'MKKQLY7NULZCUB233EID4BLR',\n",
            "            'task_status': 'FAILED',\n",
            "            'type': 'image',\n",
            "            'updated_at': '2025-08-21T19:23:57.341910+00:00'},\n",
            "           {'attempts': 0,\n",
            "            'created_at': '2025-08-21T19:23:57.341910+00:00',\n",
            "            'deadline_at': None,\n",
            "            'error': None,\n",
            "            'id': '73cd90fb-aa64-4310-8cd9-b5c2a3c73ba7',\n",
            "            'job_id': 'd258473f-b7ab-4a50-bc98-dbd91e6853e8',\n",
            "            'last_error': None,\n",
            "            'lease_until': None,\n",
            "            'name': 'Andes_MCDS4S5_Yearly_Monthly_2025_05',\n",
            "            'next_check_at': '2025-08-21T19:23:57.341910+00:00',\n",
            "            'path': 'projects/ee-observatorionieves/assets/Test/MODIS/Andes_MCDS4S5_Yearly_Monthly',\n",
            "            'poll_interval_sec': 15,\n",
            "            'state': 'FAILED',\n",
            "            'target': 'gee',\n",
            "            'task_id': 'ANU5SMWWSKKJX7BJALL6ZJ63',\n",
            "            'task_status': 'FAILED',\n",
            "            'type': 'image',\n",
            "            'updated_at': '2025-08-21T19:23:57.341910+00:00'},\n",
            "           {'attempts': 0,\n",
            "            'created_at': '2025-08-21T19:23:57.341910+00:00',\n",
            "            'deadline_at': None,\n",
            "            'error': None,\n",
            "            'id': '6f6b38ad-971a-40ce-9c4d-70b3cb2b5303',\n",
            "            'job_id': 'd258473f-b7ab-4a50-bc98-dbd91e6853e8',\n",
            "            'last_error': None,\n",
            "            'lease_until': None,\n",
            "            'name': 'Andes_MCDS4S5_Yearly_Monthly_2025_06',\n",
            "            'next_check_at': '2025-08-21T19:23:57.341910+00:00',\n",
            "            'path': 'projects/ee-observatorionieves/assets/Test/MODIS/Andes_MCDS4S5_Yearly_Monthly',\n",
            "            'poll_interval_sec': 15,\n",
            "            'state': 'FAILED',\n",
            "            'target': 'gee',\n",
            "            'task_id': 'UELCOBBEKW76VFOIANJUV3VO',\n",
            "            'task_status': 'FAILED',\n",
            "            'type': 'image',\n",
            "            'updated_at': '2025-08-21T19:23:57.341910+00:00'},\n",
            "           {'attempts': 0,\n",
            "            'created_at': '2025-08-21T19:23:57.341910+00:00',\n",
            "            'deadline_at': None,\n",
            "            'error': None,\n",
            "            'id': '3a5a62b2-d2ec-45fd-83cb-b8716336c808',\n",
            "            'job_id': 'd258473f-b7ab-4a50-bc98-dbd91e6853e8',\n",
            "            'last_error': None,\n",
            "            'lease_until': None,\n",
            "            'name': 'Andes_MCDS4S5_Yearly_Monthly_2025_07',\n",
            "            'next_check_at': '2025-08-21T19:23:57.341910+00:00',\n",
            "            'path': 'projects/ee-observatorionieves/assets/Test/MODIS/Andes_MCDS4S5_Yearly_Monthly',\n",
            "            'poll_interval_sec': 15,\n",
            "            'state': 'FAILED',\n",
            "            'target': 'gee',\n",
            "            'task_id': 'RVCISVEHMYSFWU6PA6UVQVUE',\n",
            "            'task_status': 'FAILED',\n",
            "            'type': 'image',\n",
            "            'updated_at': '2025-08-21T19:23:57.341910+00:00'}]}\n"
          ]
        }
      ],
      "source": [
        "with db.db(db_path) as conn:\n",
        "    tasks = conn.execute(\n",
        "                \"SELECT * FROM exports WHERE job_id=? ORDER BY type, state\", (job_id,)\n",
        "            ).fetchall()\n",
        "    full_job = {\"job\": dict(job), \"tasks\": [dict(task) for task in tasks]}\n",
        "    pprint(full_job)"
      ]
    }
  ],
  "metadata": {
    "kernelspec": {
      "display_name": "observatorio-ipa (3.12.7)",
      "language": "python",
      "name": "python3"
    },
    "language_info": {
      "codemirror_mode": {
        "name": "ipython",
        "version": 3
      },
      "file_extension": ".py",
      "mimetype": "text/x-python",
      "name": "python",
      "nbconvert_exporter": "python",
      "pygments_lexer": "ipython3",
      "version": "3.12.7"
    },
    "colab": {
      "provenance": []
    }
  },
  "nbformat": 4,
  "nbformat_minor": 5
}